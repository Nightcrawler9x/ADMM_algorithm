{
 "cells": [
  {
   "cell_type": "markdown",
   "id": "4e47eb6b",
   "metadata": {},
   "source": [
    "#LOW-LIGHT"
   ]
  },
  {
   "cell_type": "markdown",
   "id": "5fb9e22b",
   "metadata": {},
   "source": [
    "Oscar Miguel Ortega Lozano - 2220528\n",
    "Daniel Esteban Yaruro Contreras - 2220088\n",
    "Juan David Toloza Parada - 2221136"
   ]
  }
 ],
 "metadata": {
  "language_info": {
   "name": "python"
  }
 },
 "nbformat": 4,
 "nbformat_minor": 5
}
